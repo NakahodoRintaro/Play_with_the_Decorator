{
  "nbformat": 4,
  "nbformat_minor": 0,
  "metadata": {
    "colab": {
      "name": "Computational_speed?comparison.ipynb",
      "provenance": [],
      "authorship_tag": "ABX9TyPj/g1q/0p3HynH2VuJG5bT",
      "include_colab_link": true
    },
    "kernelspec": {
      "name": "python3",
      "display_name": "Python 3"
    }
  },
  "cells": [
    {
      "cell_type": "markdown",
      "metadata": {
        "id": "view-in-github",
        "colab_type": "text"
      },
      "source": [
        "<a href=\"https://colab.research.google.com/github/NakahodoRintaro/Play_with_the_Decorator/blob/main/Computational_speed_comparison.ipynb\" target=\"_parent\"><img src=\"https://colab.research.google.com/assets/colab-badge.svg\" alt=\"Open In Colab\"/></a>"
      ]
    },
    {
      "cell_type": "markdown",
      "metadata": {
        "id": "Ue2hQRe3GPwy"
      },
      "source": [
        "# Let's compare the computational speed when the speed is increased"
      ]
    },
    {
      "cell_type": "code",
      "metadata": {
        "id": "RnJHbD1SDBXj",
        "outputId": "88f5710a-4cd9-4657-c30b-56408393043d",
        "colab": {
          "base_uri": "https://localhost:8080/"
        }
      },
      "source": [
        "from numpy import arange\n",
        "import time\n",
        "\n",
        "#\bordinary\n",
        "def sum_2dim(arr):\n",
        "    M, N = arr.shape\n",
        "    result = 0.0\n",
        "    for i in range(M):\n",
        "        for j in range(N):\n",
        "            result += arr[i, j]\n",
        "    return result\n",
        "\n",
        "\n",
        "start = time.time()\n",
        "start1 = time.time()\n",
        "# test1 is big, test2 is small\n",
        "test1 = arange(100000000).reshape(10000, 10000)\n",
        "test2 = arange(10000).reshape(100, 100)\n",
        "print(sum_2dim(test1))\n",
        "elapsed_time1 = time.time() - start\n",
        "\n",
        "print (\"time:{0}\".format(elapsed_time1) + \"[sec]\")\n",
        "\n",
        "\n",
        "print(sum_2dim(test2))\n",
        "elapsed_time2 = time.time() - start1\n",
        "print (\"time:{0}\".format(elapsed_time2) + \"[sec]\")\n"
      ],
      "execution_count": 41,
      "outputs": [
        {
          "output_type": "stream",
          "text": [
            "4999999950000000.0\n",
            "time:35.430203437805176[sec]\n",
            "49995000.0\n",
            "time:35.43395185470581[sec]\n"
          ],
          "name": "stdout"
        }
      ]
    },
    {
      "cell_type": "markdown",
      "metadata": {
        "id": "6fsyCKA8IPp-"
      },
      "source": [
        "# Numba acceleration"
      ]
    },
    {
      "cell_type": "code",
      "metadata": {
        "id": "3aLszdLEDpFa",
        "outputId": "e733e9d2-8ffd-4f9c-f13c-d8d9ba85a839",
        "colab": {
          "base_uri": "https://localhost:8080/"
        }
      },
      "source": [
        "@jit\n",
        "def sum_2dim(arr):\n",
        "    M, N = arr.shape\n",
        "    result = 0.0\n",
        "    for i in range(M):\n",
        "        for j in range(N):\n",
        "            result += arr[i, j]\n",
        "    return result\n",
        "\n",
        "\n",
        "start3 = time.time()\n",
        "start4 = time.time()\n",
        "\n",
        "\n",
        "test3 = arange(100000000).reshape(10000, 10000)\n",
        "print(sum_2dim(test3))\n",
        "new_elapsed_time1 = time.time() - start4\n",
        "print (\"newtime:{0}\".format(new_elapsed_time1) + \"[sec]\")\n",
        "\n",
        "test4 = arange(10000).reshape(100, 100)\n",
        "print(sum_2dim(test4))\n",
        "new_elapsed_time2 = time.time() - start3\n",
        "print (\"newtime:{0}\".format(new_elapsed_time2) + \"[sec]\")"
      ],
      "execution_count": 40,
      "outputs": [
        {
          "output_type": "stream",
          "text": [
            "4999999950000000.0\n",
            "newtime:0.40189242362976074[sec]\n",
            "49995000.0\n",
            "newtime:0.40291547775268555[sec]\n"
          ],
          "name": "stdout"
        }
      ]
    },
    {
      "cell_type": "markdown",
      "metadata": {
        "id": "_R3L4PSjIzO9"
      },
      "source": [
        "# Let's compare how fast it is when it's faster"
      ]
    },
    {
      "cell_type": "code",
      "metadata": {
        "id": "IA2u-NTRIhGf",
        "outputId": "06a1337d-efda-496c-c32d-8b461b40aa4d",
        "colab": {
          "base_uri": "https://localhost:8080/"
        }
      },
      "source": [
        "result1 = elapsed_time1 - new_elapsed_time1\n",
        "result2 = elapsed_time2 - new_elapsed_time2\n",
        "print(result1)\n",
        "print(result2)"
      ],
      "execution_count": 43,
      "outputs": [
        {
          "output_type": "stream",
          "text": [
            "35.028311014175415\n",
            "35.031036376953125\n"
          ],
          "name": "stdout"
        }
      ]
    },
    {
      "cell_type": "markdown",
      "metadata": {
        "id": "yrY-Ut5aI6aq"
      },
      "source": [
        "# Wow, 35 seconds faster."
      ]
    }
  ]
}